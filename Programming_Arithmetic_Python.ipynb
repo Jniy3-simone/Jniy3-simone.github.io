{
  "nbformat": 4,
  "nbformat_minor": 0,
  "metadata": {
    "colab": {
      "name": "Programming Arithmetic - Python",
      "provenance": [],
      "collapsed_sections": [],
      "authorship_tag": "ABX9TyOPSI1Vb4n8MRUU0ua01aDY",
      "include_colab_link": true
    },
    "kernelspec": {
      "name": "python3",
      "display_name": "Python 3"
    },
    "language_info": {
      "name": "python"
    }
  },
  "cells": [
    {
      "cell_type": "markdown",
      "metadata": {
        "id": "view-in-github",
        "colab_type": "text"
      },
      "source": [
        "<a href=\"https://colab.research.google.com/github/Jniy3/Jniy3-DE.github.io/blob/main/Programming_Arithmetic_Python.ipynb\" target=\"_parent\"><img src=\"https://colab.research.google.com/assets/colab-badge.svg\" alt=\"Open In Colab\"/></a>"
      ]
    },
    {
      "cell_type": "code",
      "execution_count": 1,
      "metadata": {
        "colab": {
          "base_uri": "https://localhost:8080/"
        },
        "id": "v8Tuhu7L28ZW",
        "outputId": "f17a176a-8456-4c89-c44f-60a3cf54600b"
      },
      "outputs": [
        {
          "output_type": "stream",
          "name": "stdout",
          "text": [
            "30\n"
          ]
        }
      ],
      "source": [
        "23 + 7\n",
        "print(23 + 7) "
      ]
    },
    {
      "cell_type": "code",
      "source": [
        "print(40 + 4)\n",
        "print(200 - 25)"
      ],
      "metadata": {
        "colab": {
          "base_uri": "https://localhost:8080/"
        },
        "id": "Fn8XLrGcKKyq",
        "outputId": "021d0b72-5681-4703-eb42-c0a66e0f3ef9"
      },
      "execution_count": 2,
      "outputs": [
        {
          "output_type": "stream",
          "name": "stdout",
          "text": [
            "44\n",
            "175\n"
          ]
        }
      ]
    },
    {
      "cell_type": "code",
      "source": [
        "# print(34 + 16)\n",
        "# print(34)\n",
        "print(-34)\n",
        "# This program will only print -34"
      ],
      "metadata": {
        "colab": {
          "base_uri": "https://localhost:8080/"
        },
        "id": "hCa4ei_oKWz0",
        "outputId": "11dced0c-2c40-42e4-94f0-ec74312c28c7"
      },
      "execution_count": 9,
      "outputs": [
        {
          "output_type": "stream",
          "name": "stdout",
          "text": [
            "-34\n"
          ]
        }
      ]
    },
    {
      "cell_type": "code",
      "source": [
        "print(16 * 10)"
      ],
      "metadata": {
        "colab": {
          "base_uri": "https://localhost:8080/"
        },
        "id": "d_R_q2WCK1E3",
        "outputId": "d592ad85-7844-4ea5-d57f-4b72e8d3028d"
      },
      "execution_count": 4,
      "outputs": [
        {
          "output_type": "stream",
          "name": "stdout",
          "text": [
            "160\n"
          ]
        }
      ]
    },
    {
      "cell_type": "code",
      "source": [
        "print(48 / 5)"
      ],
      "metadata": {
        "colab": {
          "base_uri": "https://localhost:8080/"
        },
        "id": "yo8MoiaTK5CI",
        "outputId": "71919cf8-0c9b-4270-bba6-8c9992700fea"
      },
      "execution_count": 5,
      "outputs": [
        {
          "output_type": "stream",
          "name": "stdout",
          "text": [
            "9.6\n"
          ]
        }
      ]
    },
    {
      "cell_type": "code",
      "source": [
        "print(5 ** 3)"
      ],
      "metadata": {
        "colab": {
          "base_uri": "https://localhost:8080/"
        },
        "id": "yHT-PqOkK9m4",
        "outputId": "9e08fc48-64b9-4f89-e5e7-a8ad8414fffa"
      },
      "execution_count": 6,
      "outputs": [
        {
          "output_type": "stream",
          "name": "stdout",
          "text": [
            "125\n"
          ]
        }
      ]
    },
    {
      "cell_type": "code",
      "source": [
        "(4 * 18) ** 2 / 10"
      ],
      "metadata": {
        "colab": {
          "base_uri": "https://localhost:8080/"
        },
        "id": "XlOg9U6gLh_W",
        "outputId": "6c3c1666-a05f-4162-896c-9f3dc88be1d3"
      },
      "execution_count": 10,
      "outputs": [
        {
          "output_type": "execute_result",
          "data": {
            "text/plain": [
              "518.4"
            ]
          },
          "metadata": {},
          "execution_count": 10
        }
      ]
    },
    {
      "cell_type": "code",
      "source": [
        "result = (1234 + 9876)\n",
        "print(result)"
      ],
      "metadata": {
        "colab": {
          "base_uri": "https://localhost:8080/"
        },
        "id": "ttbjz5nKNYQo",
        "outputId": "c6975612-3408-41dc-c524-60753f362a82"
      },
      "execution_count": 11,
      "outputs": [
        {
          "output_type": "stream",
          "name": "stdout",
          "text": [
            "11110\n"
          ]
        }
      ]
    },
    {
      "cell_type": "code",
      "source": [
        "result = (1000 - 75)\n",
        "print(result)"
      ],
      "metadata": {
        "colab": {
          "base_uri": "https://localhost:8080/"
        },
        "id": "u0-IU_FpNnoa",
        "outputId": "bf2ab3c7-6e09-42e7-f61f-da5f2a048afa"
      },
      "execution_count": 12,
      "outputs": [
        {
          "output_type": "stream",
          "name": "stdout",
          "text": [
            "925\n"
          ]
        }
      ]
    },
    {
      "cell_type": "code",
      "source": [
        "total_number = (3 * 7)\n",
        "print(total_number)"
      ],
      "metadata": {
        "colab": {
          "base_uri": "https://localhost:8080/"
        },
        "id": "uA1MPbxqOItU",
        "outputId": "f5cfa249-e284-408e-a39a-dc3fd7d7e426"
      },
      "execution_count": 13,
      "outputs": [
        {
          "output_type": "stream",
          "name": "stdout",
          "text": [
            "21\n"
          ]
        }
      ]
    },
    {
      "cell_type": "code",
      "source": [
        "result = (66.2 / (1.82 ** 2))\n",
        "print(result)"
      ],
      "metadata": {
        "colab": {
          "base_uri": "https://localhost:8080/"
        },
        "id": "lKEwxY3ROVPv",
        "outputId": "187b5108-c2ed-4a05-dd75-dc04937bbf2f"
      },
      "execution_count": 14,
      "outputs": [
        {
          "output_type": "stream",
          "name": "stdout",
          "text": [
            "19.985508996498005\n"
          ]
        }
      ]
    },
    {
      "cell_type": "code",
      "source": [
        "avg_crime = (749 + 371 + 828 + 503 + 1379) /5\n",
        "print(avg_crime)"
      ],
      "metadata": {
        "colab": {
          "base_uri": "https://localhost:8080/"
        },
        "id": "lIHQhhOmOjpm",
        "outputId": "2d487a23-8e20-43b7-b4cd-22d28c897771"
      },
      "execution_count": 15,
      "outputs": [
        {
          "output_type": "stream",
          "name": "stdout",
          "text": [
            "766.0\n"
          ]
        }
      ]
    },
    {
      "cell_type": "code",
      "source": [
        "total_sec = (12 * 3600 + 30 * 60) \n",
        "print(total_sec)"
      ],
      "metadata": {
        "colab": {
          "base_uri": "https://localhost:8080/"
        },
        "id": "CEyba5_HO-7N",
        "outputId": "5e731691-ef24-47e5-bc82-8cb5f1bf0623"
      },
      "execution_count": 16,
      "outputs": [
        {
          "output_type": "stream",
          "name": "stdout",
          "text": [
            "45000\n"
          ]
        }
      ]
    },
    {
      "cell_type": "code",
      "source": [
        "total_cupcakes = (42 // 32)\n",
        "print(total_cupcakes)"
      ],
      "metadata": {
        "colab": {
          "base_uri": "https://localhost:8080/"
        },
        "id": "sHJCIBidPkuF",
        "outputId": "906970e3-23bf-4c7e-e1a0-625a85a92d4c"
      },
      "execution_count": 17,
      "outputs": [
        {
          "output_type": "stream",
          "name": "stdout",
          "text": [
            "1\n"
          ]
        }
      ]
    },
    {
      "cell_type": "code",
      "source": [
        "(142 % 32)\n",
        "print(142 % 32)"
      ],
      "metadata": {
        "colab": {
          "base_uri": "https://localhost:8080/"
        },
        "id": "Z9aW79d9QLkd",
        "outputId": "d9ccf966-72fe-41a7-db03-0cd4f63a1f0b"
      },
      "execution_count": 18,
      "outputs": [
        {
          "output_type": "stream",
          "name": "stdout",
          "text": [
            "14\n"
          ]
        }
      ]
    },
    {
      "cell_type": "code",
      "source": [
        "print(42, 'Times', 17, '=', 42 * 17)"
      ],
      "metadata": {
        "colab": {
          "base_uri": "https://localhost:8080/"
        },
        "id": "Cw145mh2QoWn",
        "outputId": "b12a2815-828f-45f1-a7a5-7578522de446"
      },
      "execution_count": 19,
      "outputs": [
        {
          "output_type": "stream",
          "name": "stdout",
          "text": [
            "42 Times 17 = 714\n"
          ]
        }
      ]
    }
  ]
}