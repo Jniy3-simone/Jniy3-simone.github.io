{
  "nbformat": 4,
  "nbformat_minor": 0,
  "metadata": {
    "colab": {
      "name": "Conditional Statements - Python  ",
      "provenance": [],
      "collapsed_sections": [],
      "authorship_tag": "ABX9TyNMWHVnsUQZ+bwkKDWxUtlo",
      "include_colab_link": true
    },
    "kernelspec": {
      "name": "python3",
      "display_name": "Python 3"
    },
    "language_info": {
      "name": "python"
    }
  },
  "cells": [
    {
      "cell_type": "markdown",
      "metadata": {
        "id": "view-in-github",
        "colab_type": "text"
      },
      "source": [
        "<a href=\"https://colab.research.google.com/github/Jniy3/Jniy3-DE.github.io/blob/main/Conditional_Statements_Python.ipynb\" target=\"_parent\"><img src=\"https://colab.research.google.com/assets/colab-badge.svg\" alt=\"Open In Colab\"/></a>"
      ]
    },
    {
      "cell_type": "code",
      "source": [
        "free_apps_ratings = []\n",
        "for row in apps_data[1:]:\n",
        "    rating = float(row[7])\n",
        "\n",
        "    price = float(row[4])\n",
        "    if price == 0:\n",
        "        free_apps_ratings.append(rating)\n",
        "\n",
        "avg_rating_free = sum(free_apps_ratings) / len(free_apps_ratings)\n",
        "print(avg_rating_free)                   "
      ],
      "metadata": {
        "id": "zYExNRTZi4Wc"
      },
      "execution_count": null,
      "outputs": []
    },
    {
      "cell_type": "code",
      "execution_count": null,
      "metadata": {
        "colab": {
          "base_uri": "https://localhost:8080/"
        },
        "id": "LOeaOxPJhCtG",
        "outputId": "68c1f9e2-db8f-43af-8386-ae5204941599"
      },
      "outputs": [
        {
          "output_type": "stream",
          "name": "stdout",
          "text": [
            "This is free\n"
          ]
        }
      ],
      "source": [
        "a_price = 0 \n",
        "if a_price == 0:\n",
        "  print('This is free')\n",
        "if a_price == 1:\n",
        "  print('This is not free')"
      ]
    },
    {
      "cell_type": "code",
      "source": [
        "non_free_apps_ratings = []\n",
        "for row in apps_data[1:]:\n",
        "    rating = float(row[7])\n",
        "    price = float (row[4])\n",
        "    if price != 0.0:\n",
        "      non_free_apps_ratings.append(rating)\n",
        "\n",
        "avg_rating_non_free = sum(non_free_apps_ratings) / len(non_free_apps_ratings)\n",
        "print(avg_rating_non_free)"
      ],
      "metadata": {
        "id": "x8RyEpwapq8P"
      },
      "execution_count": null,
      "outputs": []
    },
    {
      "cell_type": "code",
      "source": [
        "non_games_ratings = []\n",
        "for row in apps_data[1:]:\n",
        "    rating = float(row[7])\n",
        "    genre = (row[11])\n",
        "    if genre != 'Games':\n",
        "       non_games_ratings.append(rating)\n",
        "\n",
        "avg_rating_non_games = sum(non_games_ratings) / len(non_games_ratings)\n",
        "print(non_games_ratings)"
      ],
      "metadata": {
        "id": "5kmkZpFTtF3d"
      },
      "execution_count": null,
      "outputs": []
    },
    {
      "cell_type": "code",
      "source": [
        "if price == 0.0 and genre == 'Games':\n",
        "    free_games_ratings.append(rating)\n",
        "\n",
        "avg_rating_free_games = sum(free_games_ratings) / len(free_games_ratings)"
      ],
      "metadata": {
        "id": "ERrTMqiB0nuI"
      },
      "execution_count": null,
      "outputs": []
    },
    {
      "cell_type": "code",
      "source": [
        "if genre == 'Social Networking' or genre == 'Games':\n",
        "    games_social_ratings.append(rating)\n",
        "\n",
        "avg_games_social = sum(games_social_ratings) / len(games_social_ratings)"
      ],
      "metadata": {
        "id": "r23yOq0r9u6k"
      },
      "execution_count": null,
      "outputs": []
    },
    {
      "cell_type": "code",
      "source": [
        "nonfree_games_social_ratings = []\n",
        "for row in apps_data[1:]:\n",
        "  rating = float(row[7])\n",
        "  genre = row([11])\n",
        "  price = float(row[4])\n",
        "\n",
        "  if (genre == 'Social Networking' or genre == 'Games') and price != 0:\n",
        "    nonfree_games_social_ratings.append(rating)\n",
        "\n",
        "avg_non_free = sum(nonfree_games_social_ratings) / len(nonfree_games_social_ratings)"
      ],
      "metadata": {
        "id": "WMpq9yUSHSvF"
      },
      "execution_count": null,
      "outputs": []
    },
    {
      "cell_type": "code",
      "source": [
        "if not (genre = 'Social Networking' or 'Games') and price != 0: \n",
        "    non_free_non_sn_games.append(rating)\n",
        "\n",
        "avg_non_free_non_sn_games = sum(non_free_non_sn_games) / len(non_fee_non_sn_games)"
      ],
      "metadata": {
        "id": "IqoUCPvmPSBi"
      },
      "execution_count": null,
      "outputs": []
    },
    {
      "cell_type": "code",
      "source": [
        "ratings = []\n",
        "for row in apps_data[1:]:\n",
        "  rating = float(row[7])\n",
        "  price = float(row[4])\n",
        "  if price > 9:\n",
        "    ratings.append(rating)\n",
        "\n",
        "avg_rating = sum(ratings) / len(ratings)\n",
        "n_apps_more_9 = (len(ratings))\n",
        "n_apps_less_9 = len(apps_data[1:]) - len(rating) "
      ],
      "metadata": {
        "id": "zbfIY9zhpSU3"
      },
      "execution_count": null,
      "outputs": []
    },
    {
      "cell_type": "code",
      "source": [
        "if price == 0.0:\n",
        "  app.append('free')\n",
        "\n",
        "  else:\n",
        "    app.append('non-free')\n",
        "\n",
        "apps_data[0].append('free_or_not')\n",
        "print(apps_data[:6])"
      ],
      "metadata": {
        "id": "29Oi_ZeB_RfI"
      },
      "execution_count": null,
      "outputs": []
    },
    {
      "cell_type": "code",
      "source": [
        "if price == 0:\n",
        "  app.append('free')\n",
        "elif price > 0 and price < 20:\n",
        "  app.append('afforable')\n",
        "elif price >= 20 and price < 50:\n",
        "  app.append('expensive')\n",
        "elif price >= 50:\n",
        "  app.append('very expensive')\n",
        "\n",
        "apps_data[0].append('price label')"
      ],
      "metadata": {
        "id": "10jydIxMllCV"
      },
      "execution_count": null,
      "outputs": []
    },
    {
      "cell_type": "code",
      "source": [
        ""
      ],
      "metadata": {
        "id": "inbkLSab05YT"
      },
      "execution_count": null,
      "outputs": []
    }
  ]
}